{
  "cells": [
    {
      "cell_type": "code",
      "execution_count": 1,
      "metadata": {
        "id": "hBHw2m6mXzmx"
      },
      "outputs": [],
      "source": [
        "import numpy as np\n"
      ]
    },
    {
      "cell_type": "code",
      "execution_count": 2,
      "metadata": {
        "id": "7J30ldXRX3h8"
      },
      "outputs": [],
      "source": [
        "x = np.array([2006, 2007, 2008, 2009, 2010])\n",
        "y = np.array([40, 56, 78, 80, 40])"
      ]
    },
    {
      "cell_type": "code",
      "execution_count": 3,
      "metadata": {
        "colab": {
          "base_uri": "https://localhost:8080/"
        },
        "id": "NtD4BTtmX7SI",
        "outputId": "042e0f9d-0d1d-4e23-947e-ec3b59108e86"
      },
      "outputs": [
        {
          "name": "stdout",
          "output_type": "stream",
          "text": [
            "Sum of y: 294\n"
          ]
        }
      ],
      "source": [
        "y_sum = sum(y)\n",
        "print (\"Sum of y:\",y_sum)"
      ]
    },
    {
      "cell_type": "code",
      "execution_count": 4,
      "metadata": {
        "colab": {
          "base_uri": "https://localhost:8080/"
        },
        "id": "GflGYlsnX_ZH",
        "outputId": "c923bcc2-9fc3-45c6-b747-fb685ff145a6"
      },
      "outputs": [
        {
          "name": "stdout",
          "output_type": "stream",
          "text": [
            "x median: 2008\n",
            "[-2 -1  0  1  2]\n",
            "10\n"
          ]
        }
      ],
      "source": [
        "x_median = 2008\n",
        "\n",
        "print(\"x median:\", x_median)\n",
        "\n",
        "x_value = (x-x_median)\n",
        "print (x_value)\n",
        "x_sqr = sum(x_value**2)\n",
        "print (x_sqr)"
      ]
    },
    {
      "cell_type": "code",
      "execution_count": 5,
      "metadata": {
        "colab": {
          "base_uri": "https://localhost:8080/"
        },
        "id": "UaiysHhyYDiu",
        "outputId": "72ab7722-06cc-43f6-d079-5beb69c844bc"
      },
      "outputs": [
        {
          "name": "stdout",
          "output_type": "stream",
          "text": [
            "[-80 -56   0  80  80]\n",
            "24\n",
            "5\n"
          ]
        }
      ],
      "source": [
        "xy = (x_value*y)\n",
        "xy_sum = sum(x_value*y)\n",
        "print(xy)\n",
        "\n",
        "print(xy_sum)\n",
        "n =len(x)\n",
        "print (n)"
      ]
    },
    {
      "cell_type": "code",
      "execution_count": 6,
      "metadata": {
        "colab": {
          "base_uri": "https://localhost:8080/"
        },
        "id": "i1_08YSJYJDm",
        "outputId": "ea9a1b75-170a-4025-c61d-39474a0659f9"
      },
      "outputs": [
        {
          "name": "stdout",
          "output_type": "stream",
          "text": [
            "58.8\n",
            "2.4\n",
            "54.0\n",
            "56.4\n",
            "58.8\n",
            "61.199999999999996\n",
            "63.599999999999994\n"
          ]
        }
      ],
      "source": [
        "a = y_sum/n\n",
        "print (a)\n",
        "b = xy_sum/x_sqr\n",
        "print(b)\n",
        "for i in range(len(x_value)):\n",
        "    y_new = a + b * x_value[i]\n",
        "    print(y_new)"
      ]
    },
    {
      "cell_type": "code",
      "execution_count": 7,
      "metadata": {
        "colab": {
          "base_uri": "https://localhost:8080/"
        },
        "id": "_77Nrf8cYMdB",
        "outputId": "094cdd31-8468-4fc4-e127-a5e02f7cd5c7"
      },
      "outputs": [
        {
          "name": "stdout",
          "output_type": "stream",
          "text": [
            "[2006 2007 2008 2009 2010]\n",
            "[40 56 78 80 40]\n",
            "[-80 -56   0  80  80]\n",
            "[-2 -1  0  1  2]\n",
            "54.0\n",
            "56.4\n",
            "58.8\n",
            "61.199999999999996\n",
            "63.599999999999994\n"
          ]
        }
      ],
      "source": [
        "print(x)\n",
        "print(y)\n",
        "print(xy)\n",
        "print(x_value)\n",
        "for i in range(len(x_value)):\n",
        "    y_new = a + b * x_value[i]\n",
        "    print(y_new)"
      ]
    }
  ],
  "metadata": {
    "colab": {
      "provenance": []
    },
    "kernelspec": {
      "display_name": "Python 3",
      "name": "python3"
    },
    "language_info": {
      "name": "python"
    }
  },
  "nbformat": 4,
  "nbformat_minor": 0
}
